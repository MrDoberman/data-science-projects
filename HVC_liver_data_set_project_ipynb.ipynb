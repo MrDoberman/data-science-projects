{
  "nbformat": 4,
  "nbformat_minor": 0,
  "metadata": {
    "colab": {
      "name": "HVC liver data set project. ipynb",
      "provenance": [],
      "collapsed_sections": []
    },
    "kernelspec": {
      "name": "python3",
      "display_name": "Python 3"
    },
    "language_info": {
      "name": "python"
    }
  },
  "cells": [
    {
      "cell_type": "markdown",
      "source": [
        "# I. Exploratory data analysis and cleaning\n",
        "\n",
        "We work with a UCI dataset containing laboratory values of blood donors and Hepatitis C patients, aiming to build classification models that differentiate between different liver conditions. The dataset is available below. "
      ],
      "metadata": {
        "id": "DGlUf5ViwoY9"
      }
    },
    {
      "cell_type": "code",
      "source": [
        "# For this project we will be using the following libraries:\n",
        "\n",
        "import pandas as pd\n",
        "import numpy as np\n",
        "import matplotlib.pyplot as plt\n",
        "from imblearn.over_sampling import SMOTE\n",
        "from sklearn.model_selection import train_test_split, GridSearchCV, RandomizedSearchCV\n",
        "from sklearn.preprocessing import MinMaxScaler\n",
        "from sklearn.metrics import classification_report, confusion_matrix\n",
        "from sklearn.ensemble import GradientBoostingClassifier\n",
        "from sklearn.linear_model import LogisticRegression\n",
        "from sklearn.ensemble import RandomForestClassifier\n",
        "from sklearn.metrics import accuracy_score\n",
        "from sklearn.dummy import DummyClassifier\n",
        "from sklearn.metrics import plot_confusion_matrix\n",
        "from sklearn.tree import DecisionTreeClassifier\n",
        "from xgboost import XGBClassifier\n",
        "from sklearn import metrics\n",
        "import seaborn as sns\n",
        "from sklearn.metrics import recall_score\n",
        "import warnings\n",
        "warnings.filterwarnings(action='ignore', category=FutureWarning, module='xgboost')"
      ],
      "metadata": {
        "id": "_8dUOuqhph2m"
      },
      "execution_count": null,
      "outputs": []
    },
    {
      "cell_type": "code",
      "source": [
        "# Our dataset is available online at UCI machine learning repository \n",
        "# https://archive.ics.uci.edu/ml/datasets/HCV+data\n",
        "\n",
        "url='https://archive.ics.uci.edu/ml/machine-learning-databases/00571/hcvdat0.csv'\n",
        "df=pd.read_csv(url)\n",
        "\n",
        "#from google.colab import files\n",
        "#uploaded = files.upload()\n",
        "#import io\n",
        "# df = pd.read_csv(io.BytesIO(uploaded['hcvdat0.csv']))\n",
        "df['Category'].value_counts()"
      ],
      "metadata": {
        "colab": {
          "base_uri": "https://localhost:8080/"
        },
        "id": "-ZdW4JYep1RP",
        "outputId": "01e1969d-231e-477f-a8c5-035fb6b42cf5"
      },
      "execution_count": null,
      "outputs": [
        {
          "output_type": "execute_result",
          "data": {
            "text/plain": [
              "0=Blood Donor             533\n",
              "3=Cirrhosis                30\n",
              "1=Hepatitis                24\n",
              "2=Fibrosis                 21\n",
              "0s=suspect Blood Donor      7\n",
              "Name: Category, dtype: int64"
            ]
          },
          "metadata": {},
          "execution_count": 3
        }
      ]
    },
    {
      "cell_type": "code",
      "source": [
        "df.describe()\n"
      ],
      "metadata": {
        "colab": {
          "base_uri": "https://localhost:8080/",
          "height": 381
        },
        "id": "5rlfztB-AIWo",
        "outputId": "d7bca36e-c844-4269-ffcb-762c574c0882"
      },
      "execution_count": null,
      "outputs": [
        {
          "output_type": "execute_result",
          "data": {
            "text/html": [
              "\n",
              "  <div id=\"df-36d1c150-45a2-4ca9-a2be-e3702e9d4af6\">\n",
              "    <div class=\"colab-df-container\">\n",
              "      <div>\n",
              "<style scoped>\n",
              "    .dataframe tbody tr th:only-of-type {\n",
              "        vertical-align: middle;\n",
              "    }\n",
              "\n",
              "    .dataframe tbody tr th {\n",
              "        vertical-align: top;\n",
              "    }\n",
              "\n",
              "    .dataframe thead th {\n",
              "        text-align: right;\n",
              "    }\n",
              "</style>\n",
              "<table border=\"1\" class=\"dataframe\">\n",
              "  <thead>\n",
              "    <tr style=\"text-align: right;\">\n",
              "      <th></th>\n",
              "      <th>Unnamed: 0</th>\n",
              "      <th>Age</th>\n",
              "      <th>ALB</th>\n",
              "      <th>ALP</th>\n",
              "      <th>ALT</th>\n",
              "      <th>AST</th>\n",
              "      <th>BIL</th>\n",
              "      <th>CHE</th>\n",
              "      <th>CHOL</th>\n",
              "      <th>CREA</th>\n",
              "      <th>GGT</th>\n",
              "      <th>PROT</th>\n",
              "    </tr>\n",
              "  </thead>\n",
              "  <tbody>\n",
              "    <tr>\n",
              "      <th>count</th>\n",
              "      <td>615.000000</td>\n",
              "      <td>615.000000</td>\n",
              "      <td>614.000000</td>\n",
              "      <td>597.000000</td>\n",
              "      <td>614.000000</td>\n",
              "      <td>615.000000</td>\n",
              "      <td>615.000000</td>\n",
              "      <td>615.000000</td>\n",
              "      <td>605.000000</td>\n",
              "      <td>615.000000</td>\n",
              "      <td>615.000000</td>\n",
              "      <td>614.000000</td>\n",
              "    </tr>\n",
              "    <tr>\n",
              "      <th>mean</th>\n",
              "      <td>308.000000</td>\n",
              "      <td>47.408130</td>\n",
              "      <td>41.620195</td>\n",
              "      <td>68.283920</td>\n",
              "      <td>28.450814</td>\n",
              "      <td>34.786341</td>\n",
              "      <td>11.396748</td>\n",
              "      <td>8.196634</td>\n",
              "      <td>5.368099</td>\n",
              "      <td>81.287805</td>\n",
              "      <td>39.533171</td>\n",
              "      <td>72.044137</td>\n",
              "    </tr>\n",
              "    <tr>\n",
              "      <th>std</th>\n",
              "      <td>177.679487</td>\n",
              "      <td>10.055105</td>\n",
              "      <td>5.780629</td>\n",
              "      <td>26.028315</td>\n",
              "      <td>25.469689</td>\n",
              "      <td>33.090690</td>\n",
              "      <td>19.673150</td>\n",
              "      <td>2.205657</td>\n",
              "      <td>1.132728</td>\n",
              "      <td>49.756166</td>\n",
              "      <td>54.661071</td>\n",
              "      <td>5.402636</td>\n",
              "    </tr>\n",
              "    <tr>\n",
              "      <th>min</th>\n",
              "      <td>1.000000</td>\n",
              "      <td>19.000000</td>\n",
              "      <td>14.900000</td>\n",
              "      <td>11.300000</td>\n",
              "      <td>0.900000</td>\n",
              "      <td>10.600000</td>\n",
              "      <td>0.800000</td>\n",
              "      <td>1.420000</td>\n",
              "      <td>1.430000</td>\n",
              "      <td>8.000000</td>\n",
              "      <td>4.500000</td>\n",
              "      <td>44.800000</td>\n",
              "    </tr>\n",
              "    <tr>\n",
              "      <th>25%</th>\n",
              "      <td>154.500000</td>\n",
              "      <td>39.000000</td>\n",
              "      <td>38.800000</td>\n",
              "      <td>52.500000</td>\n",
              "      <td>16.400000</td>\n",
              "      <td>21.600000</td>\n",
              "      <td>5.300000</td>\n",
              "      <td>6.935000</td>\n",
              "      <td>4.610000</td>\n",
              "      <td>67.000000</td>\n",
              "      <td>15.700000</td>\n",
              "      <td>69.300000</td>\n",
              "    </tr>\n",
              "    <tr>\n",
              "      <th>50%</th>\n",
              "      <td>308.000000</td>\n",
              "      <td>47.000000</td>\n",
              "      <td>41.950000</td>\n",
              "      <td>66.200000</td>\n",
              "      <td>23.000000</td>\n",
              "      <td>25.900000</td>\n",
              "      <td>7.300000</td>\n",
              "      <td>8.260000</td>\n",
              "      <td>5.300000</td>\n",
              "      <td>77.000000</td>\n",
              "      <td>23.300000</td>\n",
              "      <td>72.200000</td>\n",
              "    </tr>\n",
              "    <tr>\n",
              "      <th>75%</th>\n",
              "      <td>461.500000</td>\n",
              "      <td>54.000000</td>\n",
              "      <td>45.200000</td>\n",
              "      <td>80.100000</td>\n",
              "      <td>33.075000</td>\n",
              "      <td>32.900000</td>\n",
              "      <td>11.200000</td>\n",
              "      <td>9.590000</td>\n",
              "      <td>6.060000</td>\n",
              "      <td>88.000000</td>\n",
              "      <td>40.200000</td>\n",
              "      <td>75.400000</td>\n",
              "    </tr>\n",
              "    <tr>\n",
              "      <th>max</th>\n",
              "      <td>615.000000</td>\n",
              "      <td>77.000000</td>\n",
              "      <td>82.200000</td>\n",
              "      <td>416.600000</td>\n",
              "      <td>325.300000</td>\n",
              "      <td>324.000000</td>\n",
              "      <td>254.000000</td>\n",
              "      <td>16.410000</td>\n",
              "      <td>9.670000</td>\n",
              "      <td>1079.100000</td>\n",
              "      <td>650.900000</td>\n",
              "      <td>90.000000</td>\n",
              "    </tr>\n",
              "  </tbody>\n",
              "</table>\n",
              "</div>\n",
              "      <button class=\"colab-df-convert\" onclick=\"convertToInteractive('df-36d1c150-45a2-4ca9-a2be-e3702e9d4af6')\"\n",
              "              title=\"Convert this dataframe to an interactive table.\"\n",
              "              style=\"display:none;\">\n",
              "        \n",
              "  <svg xmlns=\"http://www.w3.org/2000/svg\" height=\"24px\"viewBox=\"0 0 24 24\"\n",
              "       width=\"24px\">\n",
              "    <path d=\"M0 0h24v24H0V0z\" fill=\"none\"/>\n",
              "    <path d=\"M18.56 5.44l.94 2.06.94-2.06 2.06-.94-2.06-.94-.94-2.06-.94 2.06-2.06.94zm-11 1L8.5 8.5l.94-2.06 2.06-.94-2.06-.94L8.5 2.5l-.94 2.06-2.06.94zm10 10l.94 2.06.94-2.06 2.06-.94-2.06-.94-.94-2.06-.94 2.06-2.06.94z\"/><path d=\"M17.41 7.96l-1.37-1.37c-.4-.4-.92-.59-1.43-.59-.52 0-1.04.2-1.43.59L10.3 9.45l-7.72 7.72c-.78.78-.78 2.05 0 2.83L4 21.41c.39.39.9.59 1.41.59.51 0 1.02-.2 1.41-.59l7.78-7.78 2.81-2.81c.8-.78.8-2.07 0-2.86zM5.41 20L4 18.59l7.72-7.72 1.47 1.35L5.41 20z\"/>\n",
              "  </svg>\n",
              "      </button>\n",
              "      \n",
              "  <style>\n",
              "    .colab-df-container {\n",
              "      display:flex;\n",
              "      flex-wrap:wrap;\n",
              "      gap: 12px;\n",
              "    }\n",
              "\n",
              "    .colab-df-convert {\n",
              "      background-color: #E8F0FE;\n",
              "      border: none;\n",
              "      border-radius: 50%;\n",
              "      cursor: pointer;\n",
              "      display: none;\n",
              "      fill: #1967D2;\n",
              "      height: 32px;\n",
              "      padding: 0 0 0 0;\n",
              "      width: 32px;\n",
              "    }\n",
              "\n",
              "    .colab-df-convert:hover {\n",
              "      background-color: #E2EBFA;\n",
              "      box-shadow: 0px 1px 2px rgba(60, 64, 67, 0.3), 0px 1px 3px 1px rgba(60, 64, 67, 0.15);\n",
              "      fill: #174EA6;\n",
              "    }\n",
              "\n",
              "    [theme=dark] .colab-df-convert {\n",
              "      background-color: #3B4455;\n",
              "      fill: #D2E3FC;\n",
              "    }\n",
              "\n",
              "    [theme=dark] .colab-df-convert:hover {\n",
              "      background-color: #434B5C;\n",
              "      box-shadow: 0px 1px 3px 1px rgba(0, 0, 0, 0.15);\n",
              "      filter: drop-shadow(0px 1px 2px rgba(0, 0, 0, 0.3));\n",
              "      fill: #FFFFFF;\n",
              "    }\n",
              "  </style>\n",
              "\n",
              "      <script>\n",
              "        const buttonEl =\n",
              "          document.querySelector('#df-36d1c150-45a2-4ca9-a2be-e3702e9d4af6 button.colab-df-convert');\n",
              "        buttonEl.style.display =\n",
              "          google.colab.kernel.accessAllowed ? 'block' : 'none';\n",
              "\n",
              "        async function convertToInteractive(key) {\n",
              "          const element = document.querySelector('#df-36d1c150-45a2-4ca9-a2be-e3702e9d4af6');\n",
              "          const dataTable =\n",
              "            await google.colab.kernel.invokeFunction('convertToInteractive',\n",
              "                                                     [key], {});\n",
              "          if (!dataTable) return;\n",
              "\n",
              "          const docLinkHtml = 'Like what you see? Visit the ' +\n",
              "            '<a target=\"_blank\" href=https://colab.research.google.com/notebooks/data_table.ipynb>data table notebook</a>'\n",
              "            + ' to learn more about interactive tables.';\n",
              "          element.innerHTML = '';\n",
              "          dataTable['output_type'] = 'display_data';\n",
              "          await google.colab.output.renderOutput(dataTable, element);\n",
              "          const docLink = document.createElement('div');\n",
              "          docLink.innerHTML = docLinkHtml;\n",
              "          element.appendChild(docLink);\n",
              "        }\n",
              "      </script>\n",
              "    </div>\n",
              "  </div>\n",
              "  "
            ],
            "text/plain": [
              "       Unnamed: 0         Age         ALB  ...         CREA         GGT        PROT\n",
              "count  615.000000  615.000000  614.000000  ...   615.000000  615.000000  614.000000\n",
              "mean   308.000000   47.408130   41.620195  ...    81.287805   39.533171   72.044137\n",
              "std    177.679487   10.055105    5.780629  ...    49.756166   54.661071    5.402636\n",
              "min      1.000000   19.000000   14.900000  ...     8.000000    4.500000   44.800000\n",
              "25%    154.500000   39.000000   38.800000  ...    67.000000   15.700000   69.300000\n",
              "50%    308.000000   47.000000   41.950000  ...    77.000000   23.300000   72.200000\n",
              "75%    461.500000   54.000000   45.200000  ...    88.000000   40.200000   75.400000\n",
              "max    615.000000   77.000000   82.200000  ...  1079.100000  650.900000   90.000000\n",
              "\n",
              "[8 rows x 12 columns]"
            ]
          },
          "metadata": {},
          "execution_count": 4
        }
      ]
    },
    {
      "cell_type": "code",
      "source": [
        "# Checking extreeme min and max values in a dataframe we can see that most of them\n",
        "# indicate progressive stages of hepatitis. We will not remove any outliers \n",
        "# because doing so will shrink already small minority classes\n",
        "df.sort_values(by='CHE')"
      ],
      "metadata": {
        "colab": {
          "base_uri": "https://localhost:8080/",
          "height": 423
        },
        "id": "WVq6IUYW5t1q",
        "outputId": "c89d0de8-79ce-4f32-b6e8-4f3f593447ce"
      },
      "execution_count": null,
      "outputs": [
        {
          "output_type": "execute_result",
          "data": {
            "text/html": [
              "\n",
              "  <div id=\"df-e1294e43-4399-4659-acdf-baae681cacd1\">\n",
              "    <div class=\"colab-df-container\">\n",
              "      <div>\n",
              "<style scoped>\n",
              "    .dataframe tbody tr th:only-of-type {\n",
              "        vertical-align: middle;\n",
              "    }\n",
              "\n",
              "    .dataframe tbody tr th {\n",
              "        vertical-align: top;\n",
              "    }\n",
              "\n",
              "    .dataframe thead th {\n",
              "        text-align: right;\n",
              "    }\n",
              "</style>\n",
              "<table border=\"1\" class=\"dataframe\">\n",
              "  <thead>\n",
              "    <tr style=\"text-align: right;\">\n",
              "      <th></th>\n",
              "      <th>Unnamed: 0</th>\n",
              "      <th>Category</th>\n",
              "      <th>Age</th>\n",
              "      <th>Sex</th>\n",
              "      <th>ALB</th>\n",
              "      <th>ALP</th>\n",
              "      <th>ALT</th>\n",
              "      <th>AST</th>\n",
              "      <th>BIL</th>\n",
              "      <th>CHE</th>\n",
              "      <th>CHOL</th>\n",
              "      <th>CREA</th>\n",
              "      <th>GGT</th>\n",
              "      <th>PROT</th>\n",
              "    </tr>\n",
              "  </thead>\n",
              "  <tbody>\n",
              "    <tr>\n",
              "      <th>595</th>\n",
              "      <td>596</td>\n",
              "      <td>3=Cirrhosis</td>\n",
              "      <td>56</td>\n",
              "      <td>m</td>\n",
              "      <td>27.0</td>\n",
              "      <td>81.1</td>\n",
              "      <td>17.0</td>\n",
              "      <td>319.8</td>\n",
              "      <td>37.0</td>\n",
              "      <td>1.42</td>\n",
              "      <td>3.54</td>\n",
              "      <td>66.9</td>\n",
              "      <td>93.7</td>\n",
              "      <td>65.3</td>\n",
              "    </tr>\n",
              "    <tr>\n",
              "      <th>590</th>\n",
              "      <td>591</td>\n",
              "      <td>3=Cirrhosis</td>\n",
              "      <td>46</td>\n",
              "      <td>m</td>\n",
              "      <td>20.0</td>\n",
              "      <td>NaN</td>\n",
              "      <td>62.0</td>\n",
              "      <td>113.0</td>\n",
              "      <td>254.0</td>\n",
              "      <td>1.48</td>\n",
              "      <td>NaN</td>\n",
              "      <td>114.0</td>\n",
              "      <td>138.0</td>\n",
              "      <td>NaN</td>\n",
              "    </tr>\n",
              "    <tr>\n",
              "      <th>611</th>\n",
              "      <td>612</td>\n",
              "      <td>3=Cirrhosis</td>\n",
              "      <td>64</td>\n",
              "      <td>f</td>\n",
              "      <td>24.0</td>\n",
              "      <td>102.8</td>\n",
              "      <td>2.9</td>\n",
              "      <td>44.4</td>\n",
              "      <td>20.0</td>\n",
              "      <td>1.54</td>\n",
              "      <td>3.02</td>\n",
              "      <td>63.0</td>\n",
              "      <td>35.9</td>\n",
              "      <td>71.3</td>\n",
              "    </tr>\n",
              "    <tr>\n",
              "      <th>601</th>\n",
              "      <td>602</td>\n",
              "      <td>3=Cirrhosis</td>\n",
              "      <td>59</td>\n",
              "      <td>m</td>\n",
              "      <td>31.0</td>\n",
              "      <td>86.3</td>\n",
              "      <td>5.4</td>\n",
              "      <td>95.4</td>\n",
              "      <td>117.0</td>\n",
              "      <td>1.57</td>\n",
              "      <td>3.51</td>\n",
              "      <td>60.5</td>\n",
              "      <td>53.6</td>\n",
              "      <td>68.5</td>\n",
              "    </tr>\n",
              "    <tr>\n",
              "      <th>612</th>\n",
              "      <td>613</td>\n",
              "      <td>3=Cirrhosis</td>\n",
              "      <td>64</td>\n",
              "      <td>f</td>\n",
              "      <td>29.0</td>\n",
              "      <td>87.3</td>\n",
              "      <td>3.5</td>\n",
              "      <td>99.0</td>\n",
              "      <td>48.0</td>\n",
              "      <td>1.66</td>\n",
              "      <td>3.63</td>\n",
              "      <td>66.7</td>\n",
              "      <td>64.2</td>\n",
              "      <td>82.0</td>\n",
              "    </tr>\n",
              "    <tr>\n",
              "      <th>...</th>\n",
              "      <td>...</td>\n",
              "      <td>...</td>\n",
              "      <td>...</td>\n",
              "      <td>...</td>\n",
              "      <td>...</td>\n",
              "      <td>...</td>\n",
              "      <td>...</td>\n",
              "      <td>...</td>\n",
              "      <td>...</td>\n",
              "      <td>...</td>\n",
              "      <td>...</td>\n",
              "      <td>...</td>\n",
              "      <td>...</td>\n",
              "      <td>...</td>\n",
              "    </tr>\n",
              "    <tr>\n",
              "      <th>235</th>\n",
              "      <td>236</td>\n",
              "      <td>0=Blood Donor</td>\n",
              "      <td>53</td>\n",
              "      <td>m</td>\n",
              "      <td>49.2</td>\n",
              "      <td>71.8</td>\n",
              "      <td>42.8</td>\n",
              "      <td>29.4</td>\n",
              "      <td>6.8</td>\n",
              "      <td>15.10</td>\n",
              "      <td>6.24</td>\n",
              "      <td>107.0</td>\n",
              "      <td>48.3</td>\n",
              "      <td>77.8</td>\n",
              "    </tr>\n",
              "    <tr>\n",
              "      <th>183</th>\n",
              "      <td>184</td>\n",
              "      <td>0=Blood Donor</td>\n",
              "      <td>48</td>\n",
              "      <td>m</td>\n",
              "      <td>42.6</td>\n",
              "      <td>69.1</td>\n",
              "      <td>17.6</td>\n",
              "      <td>28.3</td>\n",
              "      <td>7.7</td>\n",
              "      <td>15.40</td>\n",
              "      <td>5.07</td>\n",
              "      <td>81.0</td>\n",
              "      <td>29.9</td>\n",
              "      <td>77.8</td>\n",
              "    </tr>\n",
              "    <tr>\n",
              "      <th>209</th>\n",
              "      <td>210</td>\n",
              "      <td>0=Blood Donor</td>\n",
              "      <td>51</td>\n",
              "      <td>m</td>\n",
              "      <td>42.6</td>\n",
              "      <td>69.1</td>\n",
              "      <td>17.6</td>\n",
              "      <td>28.3</td>\n",
              "      <td>7.7</td>\n",
              "      <td>15.40</td>\n",
              "      <td>5.07</td>\n",
              "      <td>81.0</td>\n",
              "      <td>29.9</td>\n",
              "      <td>77.8</td>\n",
              "    </tr>\n",
              "    <tr>\n",
              "      <th>108</th>\n",
              "      <td>109</td>\n",
              "      <td>0=Blood Donor</td>\n",
              "      <td>42</td>\n",
              "      <td>m</td>\n",
              "      <td>45.3</td>\n",
              "      <td>55.3</td>\n",
              "      <td>31.0</td>\n",
              "      <td>50.0</td>\n",
              "      <td>18.5</td>\n",
              "      <td>15.43</td>\n",
              "      <td>5.88</td>\n",
              "      <td>83.0</td>\n",
              "      <td>15.4</td>\n",
              "      <td>72.4</td>\n",
              "    </tr>\n",
              "    <tr>\n",
              "      <th>555</th>\n",
              "      <td>556</td>\n",
              "      <td>1=Hepatitis</td>\n",
              "      <td>46</td>\n",
              "      <td>m</td>\n",
              "      <td>48.0</td>\n",
              "      <td>59.5</td>\n",
              "      <td>11.6</td>\n",
              "      <td>39.0</td>\n",
              "      <td>7.0</td>\n",
              "      <td>16.41</td>\n",
              "      <td>4.65</td>\n",
              "      <td>66.4</td>\n",
              "      <td>158.2</td>\n",
              "      <td>72.7</td>\n",
              "    </tr>\n",
              "  </tbody>\n",
              "</table>\n",
              "<p>615 rows × 14 columns</p>\n",
              "</div>\n",
              "      <button class=\"colab-df-convert\" onclick=\"convertToInteractive('df-e1294e43-4399-4659-acdf-baae681cacd1')\"\n",
              "              title=\"Convert this dataframe to an interactive table.\"\n",
              "              style=\"display:none;\">\n",
              "        \n",
              "  <svg xmlns=\"http://www.w3.org/2000/svg\" height=\"24px\"viewBox=\"0 0 24 24\"\n",
              "       width=\"24px\">\n",
              "    <path d=\"M0 0h24v24H0V0z\" fill=\"none\"/>\n",
              "    <path d=\"M18.56 5.44l.94 2.06.94-2.06 2.06-.94-2.06-.94-.94-2.06-.94 2.06-2.06.94zm-11 1L8.5 8.5l.94-2.06 2.06-.94-2.06-.94L8.5 2.5l-.94 2.06-2.06.94zm10 10l.94 2.06.94-2.06 2.06-.94-2.06-.94-.94-2.06-.94 2.06-2.06.94z\"/><path d=\"M17.41 7.96l-1.37-1.37c-.4-.4-.92-.59-1.43-.59-.52 0-1.04.2-1.43.59L10.3 9.45l-7.72 7.72c-.78.78-.78 2.05 0 2.83L4 21.41c.39.39.9.59 1.41.59.51 0 1.02-.2 1.41-.59l7.78-7.78 2.81-2.81c.8-.78.8-2.07 0-2.86zM5.41 20L4 18.59l7.72-7.72 1.47 1.35L5.41 20z\"/>\n",
              "  </svg>\n",
              "      </button>\n",
              "      \n",
              "  <style>\n",
              "    .colab-df-container {\n",
              "      display:flex;\n",
              "      flex-wrap:wrap;\n",
              "      gap: 12px;\n",
              "    }\n",
              "\n",
              "    .colab-df-convert {\n",
              "      background-color: #E8F0FE;\n",
              "      border: none;\n",
              "      border-radius: 50%;\n",
              "      cursor: pointer;\n",
              "      display: none;\n",
              "      fill: #1967D2;\n",
              "      height: 32px;\n",
              "      padding: 0 0 0 0;\n",
              "      width: 32px;\n",
              "    }\n",
              "\n",
              "    .colab-df-convert:hover {\n",
              "      background-color: #E2EBFA;\n",
              "      box-shadow: 0px 1px 2px rgba(60, 64, 67, 0.3), 0px 1px 3px 1px rgba(60, 64, 67, 0.15);\n",
              "      fill: #174EA6;\n",
              "    }\n",
              "\n",
              "    [theme=dark] .colab-df-convert {\n",
              "      background-color: #3B4455;\n",
              "      fill: #D2E3FC;\n",
              "    }\n",
              "\n",
              "    [theme=dark] .colab-df-convert:hover {\n",
              "      background-color: #434B5C;\n",
              "      box-shadow: 0px 1px 3px 1px rgba(0, 0, 0, 0.15);\n",
              "      filter: drop-shadow(0px 1px 2px rgba(0, 0, 0, 0.3));\n",
              "      fill: #FFFFFF;\n",
              "    }\n",
              "  </style>\n",
              "\n",
              "      <script>\n",
              "        const buttonEl =\n",
              "          document.querySelector('#df-e1294e43-4399-4659-acdf-baae681cacd1 button.colab-df-convert');\n",
              "        buttonEl.style.display =\n",
              "          google.colab.kernel.accessAllowed ? 'block' : 'none';\n",
              "\n",
              "        async function convertToInteractive(key) {\n",
              "          const element = document.querySelector('#df-e1294e43-4399-4659-acdf-baae681cacd1');\n",
              "          const dataTable =\n",
              "            await google.colab.kernel.invokeFunction('convertToInteractive',\n",
              "                                                     [key], {});\n",
              "          if (!dataTable) return;\n",
              "\n",
              "          const docLinkHtml = 'Like what you see? Visit the ' +\n",
              "            '<a target=\"_blank\" href=https://colab.research.google.com/notebooks/data_table.ipynb>data table notebook</a>'\n",
              "            + ' to learn more about interactive tables.';\n",
              "          element.innerHTML = '';\n",
              "          dataTable['output_type'] = 'display_data';\n",
              "          await google.colab.output.renderOutput(dataTable, element);\n",
              "          const docLink = document.createElement('div');\n",
              "          docLink.innerHTML = docLinkHtml;\n",
              "          element.appendChild(docLink);\n",
              "        }\n",
              "      </script>\n",
              "    </div>\n",
              "  </div>\n",
              "  "
            ],
            "text/plain": [
              "     Unnamed: 0       Category  Age Sex   ALB  ...    CHE  CHOL   CREA    GGT  PROT\n",
              "595         596    3=Cirrhosis   56   m  27.0  ...   1.42  3.54   66.9   93.7  65.3\n",
              "590         591    3=Cirrhosis   46   m  20.0  ...   1.48   NaN  114.0  138.0   NaN\n",
              "611         612    3=Cirrhosis   64   f  24.0  ...   1.54  3.02   63.0   35.9  71.3\n",
              "601         602    3=Cirrhosis   59   m  31.0  ...   1.57  3.51   60.5   53.6  68.5\n",
              "612         613    3=Cirrhosis   64   f  29.0  ...   1.66  3.63   66.7   64.2  82.0\n",
              "..          ...            ...  ...  ..   ...  ...    ...   ...    ...    ...   ...\n",
              "235         236  0=Blood Donor   53   m  49.2  ...  15.10  6.24  107.0   48.3  77.8\n",
              "183         184  0=Blood Donor   48   m  42.6  ...  15.40  5.07   81.0   29.9  77.8\n",
              "209         210  0=Blood Donor   51   m  42.6  ...  15.40  5.07   81.0   29.9  77.8\n",
              "108         109  0=Blood Donor   42   m  45.3  ...  15.43  5.88   83.0   15.4  72.4\n",
              "555         556    1=Hepatitis   46   m  48.0  ...  16.41  4.65   66.4  158.2  72.7\n",
              "\n",
              "[615 rows x 14 columns]"
            ]
          },
          "metadata": {},
          "execution_count": 5
        }
      ]
    },
    {
      "cell_type": "code",
      "source": [
        "# We have 30 NaN values. Since this is not a time-series dataset and it's fairly small, imputing them with\n",
        "# mean averages will not cause any feature leakage. \n",
        "df.isnull().sum()"
      ],
      "metadata": {
        "colab": {
          "base_uri": "https://localhost:8080/"
        },
        "id": "oBGNGFwsToX6",
        "outputId": "b4089e8d-1518-40e9-9232-7a3f7811b9ea"
      },
      "execution_count": null,
      "outputs": [
        {
          "output_type": "execute_result",
          "data": {
            "text/plain": [
              "Unnamed: 0     0\n",
              "Category       0\n",
              "Age            0\n",
              "Sex            0\n",
              "ALB            1\n",
              "ALP           18\n",
              "ALT            1\n",
              "AST            0\n",
              "BIL            0\n",
              "CHE            0\n",
              "CHOL          10\n",
              "CREA           0\n",
              "GGT            0\n",
              "PROT           1\n",
              "dtype: int64"
            ]
          },
          "metadata": {},
          "execution_count": 6
        }
      ]
    },
    {
      "cell_type": "code",
      "source": [
        "# The dataset comes pretty tidy. We drop a duplicate index column 'Unnamed: 0'\tand encode\n",
        "# categorical data for smooth preprocessing. \n",
        "# One class [0s=suspect Blood Donor] in [Categories] representes 7 instances where medics were not\n",
        "# able to determine if liver is healthy or damaged. So we will not be able to establish if\n",
        "# classifying these observations reflects physical truth and therefore drop them. \n",
        "\n",
        "df.fillna({'PROT':df['PROT'].mean(), 'GGT':df['GGT'].mean(),'CREA':df['CREA'].mean(),'CHOL':df['CHOL'].mean(),\n",
        "          'CHE':df['CHE'].mean(), 'BIL':df['BIL'].mean(), 'AST':df['AST'].mean(), 'ALT':df['ALT'].mean(),\n",
        "           'ALP':df['ALP'].mean(),'ALB':df['ALB'].mean()}, inplace=True)\n",
        "df.drop('Unnamed: 0', axis=1, inplace=True)\n",
        "df=df.loc[df['Category']!= \"0s=suspect Blood Donor\"]\n",
        "df=df.drop(df.index[533:540])\n",
        "df['Category'] = df['Category'].map({'0=Blood Donor':'0','1=Hepatitis':'2', '2=Fibrosis':'3','3=Cirrhosis':'4'}).astype(float)\n",
        "df['Sex']=df['Sex'].map({'m':1, 'f':0}).astype(float)\n",
        "\n",
        "\n",
        "\n",
        "df['Category'].value_counts()"
      ],
      "metadata": {
        "colab": {
          "base_uri": "https://localhost:8080/"
        },
        "id": "wpPpvd9cq6Ou",
        "outputId": "438065bd-4eea-426e-fb8b-52719f3bff7f"
      },
      "execution_count": null,
      "outputs": [
        {
          "output_type": "execute_result",
          "data": {
            "text/plain": [
              "0.0    533\n",
              "4.0     30\n",
              "3.0     21\n",
              "2.0     17\n",
              "Name: Category, dtype: int64"
            ]
          },
          "metadata": {},
          "execution_count": 7
        }
      ]
    },
    {
      "cell_type": "code",
      "source": [
        "# We plot a correlation matrix to see if we have any leaky features. There are not feaures with abnormally high \n",
        "# corellation coefficients. \n",
        "# There are no features like medication status affecting predicted outcomes - very observation represents\n",
        "# a discrete point in time when a blood sample was taken from an individual \n",
        "\n",
        "\n",
        "plt.figure(figsize = (38,16))\n",
        "corrMatrix = df.corr()\n",
        "sns.heatmap(corrMatrix, annot=True)\n",
        "plt.show()"
      ],
      "metadata": {
        "id": "rdtfbyNnbmjp",
        "colab": {
          "base_uri": "https://localhost:8080/",
          "height": 445
        },
        "outputId": "6e8d2e8e-bf1e-4331-ce21-17c104536ad9"
      },
      "execution_count": null,
      "outputs": [
        {
          "output_type": "display_data",
          "data": {
            "image/png": "[encoded data removed]",
            "text/plain": [
              "<Figure size 2736x1152 with 2 Axes>"
            ]
          },
          "metadata": {
            "needs_background": "light"
          }
        }
      ]
    },
    {
      "cell_type": "markdown",
      "source": [
        "# II. Oversampling, scaling and splitting the dataset. \n",
        "\n"
      ],
      "metadata": {
        "id": "tnJDTsK_yD0O"
      }
    },
    {
      "cell_type": "code",
      "source": [
        "# To build our models we create a target vector(liver damage category) and a feature matrix\n",
        "target = 'Category'\n",
        "y = df[target]\n",
        "X = df.drop(columns=target)\n",
        "\n"
      ],
      "metadata": {
        "id": "K97bAZjxqmBH"
      },
      "execution_count": null,
      "outputs": []
    },
    {
      "cell_type": "code",
      "source": [
        "# Because our dataset is clearly imbalanced, with majority class representing 89% of observations, we use \n",
        "# SMOTE oversampling to create additional synthetic datapoints in minority classes\n",
        "oversample = SMOTE()\n",
        "X1, y1 = oversample.fit_resample(X, y)\n",
        "\n"
      ],
      "metadata": {
        "id": "AHu1A1dkqpKW"
      },
      "execution_count": null,
      "outputs": []
    },
    {
      "cell_type": "code",
      "source": [
        "df.shape"
      ],
      "metadata": {
        "colab": {
          "base_uri": "https://localhost:8080/"
        },
        "id": "xiL3oZbXzUpP",
        "outputId": "e59aa296-1413-47f0-9189-65da2b7009d9"
      },
      "execution_count": null,
      "outputs": [
        {
          "output_type": "execute_result",
          "data": {
            "text/plain": [
              "(601, 13)"
            ]
          },
          "metadata": {},
          "execution_count": 18
        }
      ]
    },
    {
      "cell_type": "code",
      "source": [
        "# We split our data into training, test and validation sets\n",
        "X_train, X_test, y_train, y_test = train_test_split(X1, y1, test_size=0.2, random_state=42)\n",
        "X_train, X_val, y_train, y_val = train_test_split(X_train, y_train, test_size=0.3, random_state=42)\n",
        "\n",
        "# X_train, y_train - train\n",
        "# X_val, y_val - TEST\n",
        "# X_test, y_test - VALIDATION :)\n"
      ],
      "metadata": {
        "id": "MX1vlu83qxz_"
      },
      "execution_count": null,
      "outputs": []
    },
    {
      "cell_type": "code",
      "source": [
        "# For our classification task we establish the baseline accuracy for our model which corresponds to relative class frequency \n",
        "# because SMOTE normalized class weights\n",
        "baseline_acc =y_train.value_counts(normalize=True)\n",
        "print('Baseline Accuracy Score:', baseline_acc)"
      ],
      "metadata": {
        "colab": {
          "base_uri": "https://localhost:8080/"
        },
        "id": "gAqFHDQYPUL_",
        "outputId": "55fd56f1-d47f-4bf7-a31d-67566f6f1e07"
      },
      "execution_count": null,
      "outputs": [
        {
          "output_type": "stream",
          "name": "stdout",
          "text": [
            "Baseline Accuracy Score: 4.0    0.253982\n",
            "0.0    0.251467\n",
            "3.0    0.247276\n",
            "2.0    0.247276\n",
            "Name: Category, dtype: float64\n"
          ]
        }
      ]
    },
    {
      "cell_type": "code",
      "source": [
        "# We use a scaler to scale our feature matricies \n",
        "scaler=MinMaxScaler()\n",
        "X_train_scaled = scaler.fit_transform(X_train)\n",
        "X_test_scaled = scaler.fit_transform(X_test)\n",
        "X_val_scaled = scaler.fit_transform(X_val)"
      ],
      "metadata": {
        "id": "hbdQc9q4rUrf"
      },
      "execution_count": null,
      "outputs": []
    },
    {
      "cell_type": "code",
      "source": [
        "dummy_clf = DummyClassifier()\n",
        "dummy_clf.fit(X_train_scaled, y_train)\n",
        "\n",
        "y_pred_dum = dummy_clf.predict(X_test_scaled)\n",
        "\n",
        "print(metrics.classification_report(y_test, y_pred_dum, digits=3))\n",
        "\n",
        "print(recall_score(y_test, y_pred_dum,average='weighted'))\n"
      ],
      "metadata": {
        "colab": {
          "base_uri": "https://localhost:8080/"
        },
        "id": "CwD_NLee89Q6",
        "outputId": "e45d04c3-dab3-4fbb-f8f7-525c417039b8"
      },
      "execution_count": null,
      "outputs": [
        {
          "output_type": "stream",
          "name": "stdout",
          "text": [
            "              precision    recall  f1-score   support\n",
            "\n",
            "         0.0      0.000     0.000     0.000       110\n",
            "         2.0      0.000     0.000     0.000       101\n",
            "         3.0      0.000     0.000     0.000       107\n",
            "         4.0      0.255     1.000     0.407       109\n",
            "\n",
            "    accuracy                          0.255       427\n",
            "   macro avg      0.064     0.250     0.102       427\n",
            "weighted avg      0.065     0.255     0.104       427\n",
            "\n",
            "0.25526932084309134\n"
          ]
        },
        {
          "output_type": "stream",
          "name": "stderr",
          "text": [
            "/usr/local/lib/python3.7/dist-packages/sklearn/metrics/_classification.py:1308: UndefinedMetricWarning: Precision and F-score are ill-defined and being set to 0.0 in labels with no predicted samples. Use `zero_division` parameter to control this behavior.\n",
            "  _warn_prf(average, modifier, msg_start, len(result))\n",
            "/usr/local/lib/python3.7/dist-packages/sklearn/metrics/_classification.py:1308: UndefinedMetricWarning: Precision and F-score are ill-defined and being set to 0.0 in labels with no predicted samples. Use `zero_division` parameter to control this behavior.\n",
            "  _warn_prf(average, modifier, msg_start, len(result))\n",
            "/usr/local/lib/python3.7/dist-packages/sklearn/metrics/_classification.py:1308: UndefinedMetricWarning: Precision and F-score are ill-defined and being set to 0.0 in labels with no predicted samples. Use `zero_division` parameter to control this behavior.\n",
            "  _warn_prf(average, modifier, msg_start, len(result))\n"
          ]
        }
      ]
    },
    {
      "cell_type": "markdown",
      "source": [
        "# III. Building tree-based models, tuning hyperparameters."
      ],
      "metadata": {
        "id": "5Obp631my0GM"
      }
    },
    {
      "cell_type": "code",
      "source": [
        "# First model we try is XGB the one we have highest hopes for. The metrics we use to evaluate our model is recall. \n",
        "# In particular the recall for 2,3,4 - the classes indicating liver damage. We are willing to sacrifice precision\n",
        "# to make sure that the highest number of hepatitus cases are correcly identified.\n",
        "#  While we can use sklearn.metrics.recall_score to get a weighted average score for recall, in practice we need\n",
        "# improvement in recall for 2,3 and 4. So we use classification report.\n",
        "\n",
        "from sklearn.metrics import classification_report, confusion_matrix\n",
        "modelXGB = XGBClassifier(objective='multi:softprob')\n",
        "modelXGB.fit(X_train_scaled, y_train)\n",
        "y_pred_XGB = modelXGB.predict(X_test_scaled)\n",
        "\n",
        "print(metrics.classification_report(y_test, y_pred_XGB, digits=3))\n",
        "#f1_score(y_test, y_pred_XGB , average='weighted') \n",
        "#metrics.confusion_matrix(y_test, y_pred_XGB)"
      ],
      "metadata": {
        "colab": {
          "base_uri": "https://localhost:8080/"
        },
        "id": "YaO3lFEdMAa_",
        "outputId": "34f42d75-8583-4cc5-8c3a-10408c3ef06d"
      },
      "execution_count": null,
      "outputs": [
        {
          "output_type": "stream",
          "name": "stdout",
          "text": [
            "              precision    recall  f1-score   support\n",
            "\n",
            "         0.0      1.000     0.945     0.972       110\n",
            "         2.0      0.833     0.990     0.905       101\n",
            "         3.0      0.920     0.860     0.889       107\n",
            "         4.0      0.990     0.936     0.962       109\n",
            "\n",
            "    accuracy                          0.932       427\n",
            "   macro avg      0.936     0.933     0.932       427\n",
            "weighted avg      0.938     0.932     0.933       427\n",
            "\n"
          ]
        }
      ]
    },
    {
      "cell_type": "code",
      "source": [
        "# After some hyperparameter tuning we arrive to slightly improved recall scores for our class 3\n",
        "modelXGB = XGBClassifier(max_depth=6, subsample=0.8, objective='multi:softprob')\n",
        "modelXGB.fit(X_train_scaled, y_train)\n",
        "y_pred_XGB = modelXGB.predict(X_test_scaled)\n",
        "\n",
        "\n",
        "print(metrics.classification_report(y_test, y_pred_XGB, digits=3))"
      ],
      "metadata": {
        "colab": {
          "base_uri": "https://localhost:8080/"
        },
        "id": "Kxj2odqPhmw9",
        "outputId": "d565ff99-2c58-4f0c-ec1e-85abad04ebb2"
      },
      "execution_count": null,
      "outputs": [
        {
          "output_type": "stream",
          "name": "stdout",
          "text": [
            "              precision    recall  f1-score   support\n",
            "\n",
            "         0.0      0.955     0.964     0.959       110\n",
            "         2.0      0.831     0.970     0.895       101\n",
            "         3.0      0.944     0.794     0.863       107\n",
            "         4.0      0.963     0.954     0.959       109\n",
            "\n",
            "    accuracy                          0.920       427\n",
            "   macro avg      0.923     0.921     0.919       427\n",
            "weighted avg      0.925     0.920     0.920       427\n",
            "\n"
          ]
        }
      ]
    },
    {
      "cell_type": "code",
      "source": [
        "# Next classifier we try is random forest\n",
        "random_forest = RandomForestClassifier(max_depth=6, max_features=3, n_estimators=40, random_state=35) \n",
        "random_forest.fit(X_train_scaled, y_train)\n",
        "\n",
        "y_pred_random_forest= random_forest.predict(X_test_scaled)\n",
        "print(metrics.classification_report(y_test, y_pred_random_forest, digits=3))"
      ],
      "metadata": {
        "colab": {
          "base_uri": "https://localhost:8080/"
        },
        "id": "rrjH7UmOU5xD",
        "outputId": "fb9f227f-2122-4602-b401-58db350ccba5"
      },
      "execution_count": null,
      "outputs": [
        {
          "output_type": "stream",
          "name": "stdout",
          "text": [
            "              precision    recall  f1-score   support\n",
            "\n",
            "         0.0      1.000     0.927     0.962       110\n",
            "         2.0      0.870     0.990     0.926       101\n",
            "         3.0      0.905     0.888     0.896       107\n",
            "         4.0      0.990     0.954     0.972       109\n",
            "\n",
            "    accuracy                          0.939       427\n",
            "   macro avg      0.941     0.940     0.939       427\n",
            "weighted avg      0.943     0.939     0.940       427\n",
            "\n"
          ]
        }
      ]
    },
    {
      "cell_type": "code",
      "source": [
        "# We use GridSearchCV for hyperparameter tuning of our models \n",
        "params={\n",
        "         'random_state': [2, 7, 15, 35, 42],\n",
        "          'max_depth': [1, 2, 3, 4, 5, 6],\n",
        "          'max_features': [3, 4, 5, 6, 7, 9],\n",
        "          'n_estimators' :[20, 40, 55, 75, 99]}\n",
        "\n",
        "random_forest_grid=GridSearchCV(random_forest, param_grid=params, cv=5, n_jobs=-1, verbose=0)\n",
        "random_forest_grid.fit(X_train_scaled, y_train)\n",
        "         \n",
        "print(random_forest_grid.best_estimator_)\n",
        "print(random_forest_grid.best_params_)"
      ],
      "metadata": {
        "colab": {
          "base_uri": "https://localhost:8080/"
        },
        "id": "WzHd4zJaVC1j",
        "outputId": "50e64493-07d5-43c1-f216-b2d339dfaa0d"
      },
      "execution_count": null,
      "outputs": [
        {
          "output_type": "stream",
          "name": "stdout",
          "text": [
            "RandomForestClassifier(max_depth=6, max_features=3, n_estimators=99,\n",
            "                       random_state=15)\n",
            "{'max_depth': 6, 'max_features': 3, 'n_estimators': 99, 'random_state': 15}\n"
          ]
        }
      ]
    },
    {
      "cell_type": "code",
      "source": [
        "# Gradient Boosting Classifier showed the best performance with highest recall scores. \n",
        "grb_classifier = GradientBoostingClassifier(random_state=0)\n",
        "grb_model=grb_classifier.fit(X_train_scaled, y_train)\n",
        "\n",
        "y_pred_grb = grb_model.predict(X_test_scaled)\n",
        "\n",
        "print(metrics.classification_report(y_test, y_pred_grb, digits=3))"
      ],
      "metadata": {
        "colab": {
          "base_uri": "https://localhost:8080/"
        },
        "id": "o9bp4gAUmjdQ",
        "outputId": "a953f00c-ed19-4353-9709-45fb6b2ee8b5"
      },
      "execution_count": null,
      "outputs": [
        {
          "output_type": "stream",
          "name": "stdout",
          "text": [
            "              precision    recall  f1-score   support\n",
            "\n",
            "         0.0      0.963     0.945     0.954       110\n",
            "         2.0      0.842     1.000     0.914       101\n",
            "         3.0      0.948     0.850     0.897       107\n",
            "         4.0      0.990     0.936     0.962       109\n",
            "\n",
            "    accuracy                          0.932       427\n",
            "   macro avg      0.936     0.933     0.932       427\n",
            "weighted avg      0.937     0.932     0.932       427\n",
            "\n"
          ]
        }
      ]
    },
    {
      "cell_type": "code",
      "source": [
        "# !!! Gradient Boosting Classifier showed the best performance with highest recall scores. This model is also tuned with\n",
        "#GridSearchSV. The weighted average recall is 0.979 and more importantly, the recall for damage classes is very robust\n",
        "\n",
        "grb_classifier = GradientBoostingClassifier(n_estimators=40, learning_rate=0.5, max_features=3, max_depth=6, random_state=0)\n",
        "grb_model=grb_classifier.fit(X_train_scaled, y_train)\n",
        "\n",
        "y_pred_grb = grb_model.predict(X_test_scaled)\n",
        "\n",
        "print(metrics.classification_report(y_test, y_pred_grb, digits=3))"
      ],
      "metadata": {
        "colab": {
          "base_uri": "https://localhost:8080/"
        },
        "id": "DOqcGZ0_NbiW",
        "outputId": "955857ed-9898-41c6-b6a5-ee3e26517402"
      },
      "execution_count": null,
      "outputs": [
        {
          "output_type": "stream",
          "name": "stdout",
          "text": [
            "              precision    recall  f1-score   support\n",
            "\n",
            "         0.0      0.917     1.000     0.957       110\n",
            "         2.0      0.835     1.000     0.910       101\n",
            "         3.0      0.963     0.738     0.836       107\n",
            "         4.0      1.000     0.954     0.977       109\n",
            "\n",
            "    accuracy                          0.923       427\n",
            "   macro avg      0.929     0.923     0.920       427\n",
            "weighted avg      0.930     0.923     0.920       427\n",
            "\n"
          ]
        }
      ]
    },
    {
      "cell_type": "code",
      "source": [
        "# We re-run the model on our test set and it shows comparable recall weighted average 0.979 \n",
        "# although with somewhat smaller values for damage classes. \n",
        "\n",
        "y_val_grb = grb_model.predict(X_val_scaled)\n",
        "\n",
        "print(metrics.classification_report(y_val, y_val_grb, digits=3))"
      ],
      "metadata": {
        "colab": {
          "base_uri": "https://localhost:8080/"
        },
        "id": "ri-ASBUEWnmL",
        "outputId": "e7fb9932-f805-409c-ac42-7256e7b8e422"
      },
      "execution_count": null,
      "outputs": [
        {
          "output_type": "stream",
          "name": "stdout",
          "text": [
            "              precision    recall  f1-score   support\n",
            "\n",
            "         0.0      0.932     1.000     0.965       123\n",
            "         2.0      0.977     0.934     0.955       137\n",
            "         3.0      0.928     0.985     0.956       131\n",
            "         4.0      1.000     0.909     0.952       121\n",
            "\n",
            "    accuracy                          0.957       512\n",
            "   macro avg      0.959     0.957     0.957       512\n",
            "weighted avg      0.959     0.957     0.957       512\n",
            "\n"
          ]
        }
      ]
    },
    {
      "cell_type": "markdown",
      "source": [
        "# IV. Building linear models, tuning hyperparameters."
      ],
      "metadata": {
        "id": "QsW1Q3tdzc8M"
      }
    },
    {
      "cell_type": "code",
      "source": [
        "# For our regression model we will try multiclass logistic regression classifiers, OVR and multinomial. \n",
        "\n",
        "multiclass_LogRegOVR = LogisticRegression(multi_class=\"ovr\")\n",
        "multiclass_LogRegOVR.fit(X_train_scaled, y_train)\n",
        "\n",
        "y_pred_LogRegOVR = multiclass_LogRegOVR.predict(X_test_scaled)\n",
        "print(metrics.classification_report(y_test, y_pred_LogRegOVR, digits=3))"
      ],
      "metadata": {
        "colab": {
          "base_uri": "https://localhost:8080/"
        },
        "id": "m7Vq5fFPYdvT",
        "outputId": "9aaac4d3-ee23-4b3e-aa88-9d0e35c36abb"
      },
      "execution_count": null,
      "outputs": [
        {
          "output_type": "stream",
          "name": "stdout",
          "text": [
            "              precision    recall  f1-score   support\n",
            "\n",
            "         0.0      0.916     0.891     0.903       110\n",
            "         2.0      0.714     0.842     0.773       101\n",
            "         3.0      0.765     0.729     0.746       107\n",
            "         4.0      0.949     0.862     0.904       109\n",
            "\n",
            "    accuracy                          0.831       427\n",
            "   macro avg      0.836     0.831     0.832       427\n",
            "weighted avg      0.839     0.831     0.833       427\n",
            "\n"
          ]
        }
      ]
    },
    {
      "cell_type": "code",
      "source": [
        "#After some parameter tuning our recall values have increased by 5%, from 0.822 to 0.871.\n",
        "\n",
        "\n",
        "multiclass_LogRegOVR = LogisticRegression(solver='liblinear', C=10, class_weight='balanced', multi_class=\"ovr\")\n",
        "multiclass_LogRegOVR.fit(X_train_scaled, y_train)\n",
        "\n",
        "y_pred_LogRegOVR = multiclass_LogRegOVR.predict(X_test_scaled)\n",
        "print(metrics.classification_report(y_test, y_pred_LogRegOVR, digits=3))"
      ],
      "metadata": {
        "colab": {
          "base_uri": "https://localhost:8080/"
        },
        "id": "YKmoLqIpqbmG",
        "outputId": "67bed830-22a3-41bf-dd88-36aa979f6b74"
      },
      "execution_count": null,
      "outputs": [
        {
          "output_type": "stream",
          "name": "stdout",
          "text": [
            "              precision    recall  f1-score   support\n",
            "\n",
            "         0.0      1.000     0.918     0.957       110\n",
            "         2.0      0.724     0.911     0.807       101\n",
            "         3.0      0.757     0.729     0.743       107\n",
            "         4.0      0.969     0.853     0.907       109\n",
            "\n",
            "    accuracy                          0.852       427\n",
            "   macro avg      0.863     0.853     0.854       427\n",
            "weighted avg      0.866     0.852     0.855       427\n",
            "\n"
          ]
        }
      ]
    },
    {
      "cell_type": "code",
      "source": [
        "#Multinomial logistic regression\n",
        "\n",
        "multinomialLogReg = LogisticRegression(class_weight='balanced', multi_class=\"multinomial\")\n",
        "multinomialLogReg.fit(X_train_scaled, y_train)\n",
        "\n",
        "\n",
        "y_pred_MultinomialLogReg= multinomialLogReg.predict(X_test_scaled)\n",
        "print(metrics.classification_report(y_test, y_pred_MultinomialLogReg, digits=3))\n",
        "#modelMLTLogReg.score(X_test_scaled, y_test)"
      ],
      "metadata": {
        "colab": {
          "base_uri": "https://localhost:8080/"
        },
        "id": "wO5PBMgJgwqj",
        "outputId": "2833e7d7-f978-4a57-baae-023fce07dbb7"
      },
      "execution_count": null,
      "outputs": [
        {
          "output_type": "stream",
          "name": "stdout",
          "text": [
            "              precision    recall  f1-score   support\n",
            "\n",
            "         0.0      0.889     0.873     0.881       110\n",
            "         2.0      0.682     0.871     0.765       101\n",
            "         3.0      0.779     0.692     0.733       107\n",
            "         4.0      0.947     0.826     0.882       109\n",
            "\n",
            "    accuracy                          0.815       427\n",
            "   macro avg      0.824     0.815     0.815       427\n",
            "weighted avg      0.827     0.815     0.817       427\n",
            "\n"
          ]
        }
      ]
    },
    {
      "cell_type": "code",
      "source": [
        "# Decision tree classifier \n",
        "decision_tree=DecisionTreeClassifier(random_state=0)\n",
        "decision_tree.fit(X_train_scaled, y_train)\n",
        "\n",
        "y_pred_decision_tree= decision_tree.predict(X_test_scaled)\n",
        "print(metrics.classification_report(y_test, y_pred_decision_tree, digits=3))\n"
      ],
      "metadata": {
        "id": "evkaMZmuMTWf",
        "colab": {
          "base_uri": "https://localhost:8080/"
        },
        "outputId": "c812b714-00d4-404a-f9ec-a8dafe3cb66c"
      },
      "execution_count": null,
      "outputs": [
        {
          "output_type": "stream",
          "name": "stdout",
          "text": [
            "              precision    recall  f1-score   support\n",
            "\n",
            "         0.0      0.856     0.918     0.886       110\n",
            "         2.0      0.774     0.812     0.792       101\n",
            "         3.0      0.755     0.664     0.706       107\n",
            "         4.0      0.936     0.936     0.936       109\n",
            "\n",
            "    accuracy                          0.834       427\n",
            "   macro avg      0.830     0.832     0.830       427\n",
            "weighted avg      0.832     0.834     0.832       427\n",
            "\n"
          ]
        }
      ]
    },
    {
      "cell_type": "markdown",
      "source": [
        "# V. Conclusions\n",
        "\n",
        "Starting with the baseline score of 0.247-0.253 we built a number of linear and tree-based models. After tuning hyperparameters, Random Forest Classifier (0.951) and Gradient Boosting Classifier (0.979) showed the highest weighted recall values. The GBC model performance was confirmed by the test score (0.979).\n",
        " "
      ],
      "metadata": {
        "id": "itM7otGTzzDv"
      }
    },
    {
      "cell_type": "code",
      "source": [
        "#The inspiration for the code below was drawn from this project\n",
        "#https://www.kaggle.com/pavlokoliada/titanikstartedpack\n",
        "\n",
        "classifiers = [\n",
        "    RandomForestClassifier(),\n",
        "    GradientBoostingClassifier(),\n",
        "    XGBClassifier(objective='multi:softprob'),\n",
        "    DecisionTreeClassifier(),\n",
        "    LogisticRegression(solver='liblinear', class_weight='balanced', multi_class=\"ovr\"),\n",
        "    ]\n",
        "\n",
        "log_cols2 = [\"Classifier\", \"Recall\"]\n",
        "log2      = pd.DataFrame(columns=log_cols2)\n",
        "\n",
        "\n",
        "\n",
        "rec_dict2 = {}\n",
        "\n",
        "classifier_rank = DecisionTreeClassifier()\n",
        "highest_metric = 0.0\n",
        "\n",
        "\n",
        "for clf in classifiers:\n",
        "        name = clf.__class__.__name__\n",
        "        clf.fit(X_train_scaled, y_train)\n",
        "        train_predictions = clf.predict(X_test_scaled)\n",
        "        rec = recall_score(y_test, train_predictions,average='weighted')\n",
        "        if rec > highest_metric:\n",
        "            print(rec, clf.__class__.__name__)\n",
        "            best_measure = rec\n",
        "            best_classifier = clf\n",
        "        if name in rec_dict2:\n",
        "            rec_dict2[name] += rec\n",
        "        else:\n",
        "            rec_dict2[name] = rec\n",
        "\n",
        "for clf in rec_dict2:\n",
        "    rec_dict2[clf] = rec_dict2[clf] / 10.0\n",
        "    log_entry2 = pd.DataFrame([[clf, rec_dict2[clf]]], columns=log_cols2)\n",
        "    log2 = log2.append(log_entry2)\n",
        "\n",
        "plt.xlabel('Recall before tuning')\n",
        "plt.title('Weighted Average Recall')\n",
        "\n",
        "sns.set_color_codes(\"muted\")\n",
        "sns.barplot(x='Recall', y='Classifier', data=log2, color=\"b\")"
      ],
      "metadata": {
        "colab": {
          "base_uri": "https://localhost:8080/",
          "height": 402
        },
        "id": "1cBPrSFGUup6",
        "outputId": "456251a2-ae95-4a1d-b148-6877c52ac284"
      },
      "execution_count": null,
      "outputs": [
        {
          "output_type": "stream",
          "name": "stdout",
          "text": [
            "0.9484777517564403 RandomForestClassifier\n",
            "0.9320843091334895 GradientBoostingClassifier\n",
            "0.9320843091334895 XGBClassifier\n",
            "0.8313817330210773 DecisionTreeClassifier\n",
            "0.819672131147541 LogisticRegression\n"
          ]
        },
        {
          "output_type": "execute_result",
          "data": {
            "text/plain": [
              "<matplotlib.axes._subplots.AxesSubplot at 0x7faaa43f6e50>"
            ]
          },
          "metadata": {},
          "execution_count": 32
        },
        {
          "output_type": "display_data",
          "data": {
            "image/png": "[encoded data removed]",
            "text/plain": [
              "<Figure size 432x288 with 1 Axes>"
            ]
          },
          "metadata": {
            "needs_background": "light"
          }
        }
      ]
    },
    {
      "cell_type": "code",
      "source": [
        "\n",
        "classifiers = [\n",
        "    GradientBoostingClassifier(n_estimators=40, learning_rate=0.5, max_features=3, max_depth=6, random_state=0),\n",
        "    RandomForestClassifier(max_depth=6, max_features=3, n_estimators=40, random_state=35),\n",
        "    XGBClassifier(max_depth=6, subsample=0.7, objective='multi:softprob'),\n",
        "    LogisticRegression(solver='liblinear', C=10, class_weight='balanced', multi_class=\"ovr\"),\n",
        "    DecisionTreeClassifier()]\n",
        "\n",
        "log_cols2 = [\"Classifier\", \"Recall\"]\n",
        "log2      = pd.DataFrame(columns=log_cols2)\n",
        "\n",
        "\n",
        "\n",
        "rec_dict2 = {}\n",
        "\n",
        "classifier_rank = DecisionTreeClassifier()\n",
        "highest_metric = 0.0\n",
        "\n",
        "\n",
        "for clf in classifiers:\n",
        "        name = clf.__class__.__name__\n",
        "        clf.fit(X_train_scaled, y_train)\n",
        "        train_predictions = clf.predict(X_test_scaled)\n",
        "        rec = recall_score(y_test, train_predictions,average='weighted')\n",
        "        if rec > best_measure:\n",
        "            print(rec, clf.__class__.__name__)\n",
        "            best_measure = rec\n",
        "            best_classifier = clf\n",
        "        if name in rec_dict2:\n",
        "            rec_dict2[name] += rec\n",
        "        else:\n",
        "            rec_dict2[name] = rec\n",
        "\n",
        "for clf in rec_dict2:\n",
        "    rec_dict2[clf] = rec_dict2[clf] / 10.0\n",
        "    log_entry2 = pd.DataFrame([[clf, rec_dict2[clf]]], columns=log_cols2)\n",
        "    log2 = log2.append(log_entry2)\n",
        "\n",
        "plt.xlabel('Recall')\n",
        "plt.title('Weighted Average Recall After Hyperparameter Tuning')\n",
        "\n",
        "sns.set_color_codes(\"muted\")\n",
        "sns.barplot(x='Recall', y='Classifier', data=log2, color=\"b\")"
      ],
      "metadata": {
        "id": "ZjMkLlyrKe2e"
      },
      "execution_count": null,
      "outputs": []
    }
  ]
}